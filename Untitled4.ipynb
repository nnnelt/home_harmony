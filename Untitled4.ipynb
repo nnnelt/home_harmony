{
 "cells": [
  {
   "cell_type": "code",
   "execution_count": null,
   "id": "d03fd5ef-85da-43c2-aacf-30d8563a0ce1",
   "metadata": {},
   "outputs": [],
   "source": []
  }
 ],
 "metadata": {
  "kernelspec": {
   "display_name": "",
   "name": ""
  },
  "language_info": {
   "name": ""
  }
 },
 "nbformat": 4,
 "nbformat_minor": 5
}
