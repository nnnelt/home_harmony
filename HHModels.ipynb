{
 "cells": [
  {
   "cell_type": "code",
   "execution_count": null,
   "id": "2f00280d-eb9f-4eb3-92a3-c4e0832da1d8",
   "metadata": {},
   "outputs": [
    {
     "name": "stderr",
     "output_type": "stream",
     "text": [
      " 14%|█████▍                                | 48.5M/338M [10:50<54:03, 93.5kiB/s]"
     ]
    }
   ],
   "source": [
    "import os\n",
    "import torch\n",
    "import clip\n",
    "from PIL import Image\n",
    "import pandas as pd\n",
    "from tqdm import tqdm\n",
    "\n",
    "# Load CLIP model\n",
    "device = \"cuda\" if torch.cuda.is_available() else \"cpu\"\n",
    "model, preprocess = clip.load(\"ViT-B/32\", device=device)\n",
    "\n",
    "# Path to the archive folder\n",
    "archive_path = \"path/to/archive\"  # Change this to your actual path\n",
    "\n",
    "# List all category folders (e.g., beds, chairs, etc.)\n",
    "categories = os.listdir(archive_path)\n",
    "\n",
    "# Store embeddings\n",
    "image_data = []\n",
    "\n",
    "# Process each category folder\n",
    "for category in categories:\n",
    "    category_path = os.path.join(archive_path, category)\n",
    "    if not os.path.isdir(category_path):\n",
    "        continue  # Skip if not a folder\n",
    "\n",
    "    print(f\"Processing category: {category}...\")\n",
    "\n",
    "    # Process each image in the category folder\n",
    "    for image_name in tqdm(os.listdir(category_path)):\n",
    "        image_path = os.path.join(category_path, image_name)\n",
    "\n",
    "        # Ensure it's an image file\n",
    "        if not image_name.lower().endswith(('.png', '.jpg', '.jpeg', '.webp')):\n",
    "            continue\n",
    "\n",
    "        try:\n",
    "            # Load and preprocess image\n",
    "            image = Image.open(image_path).convert(\"RGB\")\n",
    "            image = preprocess(image).unsqueeze(0).to(device)\n",
    "\n",
    "            # Generate embedding\n",
    "            with torch.no_grad():\n",
    "                embedding = model.encode_image(image).cpu().numpy().flatten()\n",
    "\n",
    "            # Store data\n",
    "            image_data.append([image_path, category] + embedding.tolist())\n",
    "\n",
    "        except Exception as e:\n",
    "            print(f\"Error processing {image_name}: {e}\")\n",
    "\n",
    "# Convert to DataFrame\n",
    "embedding_df = pd.DataFrame(image_data)\n",
    "embedding_df.columns = [\"image_path\", \"category\"] + [f\"dim_{i}\" for i in range(embedding_df.shape[1] - 2)]\n",
    "\n",
    "# Save to CSV\n",
    "embedding_df.to_csv(\"image_embeddings.csv\", index=False)\n",
    "print(\"Embeddings saved to image_embeddings.csv\")"
   ]
  },
  {
   "cell_type": "code",
   "execution_count": null,
   "id": "5a3efabe-88bd-4c87-b207-ee71d7fa6c40",
   "metadata": {},
   "outputs": [],
   "source": []
  }
 ],
 "metadata": {
  "kernelspec": {
   "display_name": "Python [conda env:base] *",
   "language": "python",
   "name": "conda-base-py"
  },
  "language_info": {
   "codemirror_mode": {
    "name": "ipython",
    "version": 3
   },
   "file_extension": ".py",
   "mimetype": "text/x-python",
   "name": "python",
   "nbconvert_exporter": "python",
   "pygments_lexer": "ipython3",
   "version": "3.12.2"
  }
 },
 "nbformat": 4,
 "nbformat_minor": 5
}
